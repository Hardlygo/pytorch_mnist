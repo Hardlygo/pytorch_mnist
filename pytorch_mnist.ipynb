{
 "cells": [
  {
   "cell_type": "markdown",
   "metadata": {},
   "source": [
    "### 第一个分类网络之手写数字识别"
   ]
  },
  {
   "cell_type": "markdown",
   "metadata": {},
   "source": [
    "- 代码参考1 ：https://github.com/yunjey/pytorch-tutorial/blob/master/tutorials/01-basics/logistic_regression/main.py#L33-L34\n",
    "- 代码参考2 ：https://zhuanlan.zhihu.com/p/174217734?utm_source=qq&utm_medium=social&utm_oi=41008184164352\n",
    "- 代码参考3 ：https://github.com/JaimeTang/PyTorch-and-mnist/blob/master/pytorch-and-mnist.ipynb\n",
    "- 卷积理解1：https://www.cnblogs.com/delphi-xe5/p/11373199.html\n",
    "- 卷积理解2：https://www.zhihu.com/question/22298352\n",
    "- 卷积神经网络理解1：https://zhuanlan.zhihu.com/p/82138024\n",
    "- 卷积神经网络理解2：https://www.zhihu.com/topic/20043586/intro\n",
    "- 卷积神经网络理解3：https://www.toutiao.com/i6631121749331149315/?group_id=6631121749331149315&wid=1622019475690\n",
    "- 卷积神经网络理解4：https://blog.csdn.net/weixin_43843657/article/details/89138646\n",
    "\n",
    "\n"
   ]
  },
  {
   "cell_type": "code",
   "execution_count": 27,
   "metadata": {},
   "outputs": [],
   "source": [
    "import torch\n",
    "import torch.nn as nn\n",
    "import torchvision\n",
    "import torchvision.transforms as transforms\n",
    "from torch.utils.data import DataLoader\n",
    "import matplotlib.pyplot as plt"
   ]
  },
  {
   "cell_type": "code",
   "execution_count": 5,
   "metadata": {},
   "outputs": [],
   "source": [
    "#设置超参\n",
    "# input_size=28*28\n",
    "num_classes=10\n",
    "num_epochs=5\n",
    "batch_size=100\n",
    "lr=0.001"
   ]
  },
  {
   "cell_type": "code",
   "execution_count": 16,
   "metadata": {},
   "outputs": [],
   "source": [
    "#加载数据集 训练集和验证集\n",
    "#训练集\n",
    "train_dataset=torchvision.datasets.MNIST(root=\"./data\",train=True,transform=transforms.ToTensor(),download=True)\n",
    "#验证集\n",
    "test_dataset=torchvision.datasets.MNIST(root=\"./data\",train=False,transform=transforms.ToTensor(),download=True)\n",
    "\n",
    "train_loader=DataLoader(dataset=train_dataset,batch_size=batch_size,shuffle=True)\n",
    "\n",
    "test_loader=DataLoader(dataset=test_dataset,batch_size=batch_size,shuffle=False)\n"
   ]
  },
  {
   "cell_type": "code",
   "execution_count": 21,
   "metadata": {},
   "outputs": [],
   "source": [
    "#定义神经网络模型\n",
    "# 两个卷积网络 每一个都是包含卷积网络+激活函数+池化\n",
    "#input--卷积--Relu--pooling--卷积--Relu--pooling--linear--output\n",
    "class Net(nn.Module):\n",
    "    def __init__(self):\n",
    "        super(Net,self).__init__()\n",
    "        #第一个卷积神经网络 input shape（1,28,28）\n",
    "        self.conv1=nn.Sequential(\n",
    "        nn.Conv2d(\n",
    "            in_channels=1, #input channels\n",
    "            out_channels=16,#output channels 或者叫 n_filters\n",
    "            kernel_size=5, #filter_size （5x5）\n",
    "            stride=1,# filter movement/step 步长\n",
    "            padding=2# 如果想要Conv2d出来的图片长宽没有变化，当stride=1时，padding=（kernal_size-1）/2 [H_out=floor([(H_in+2*padding-kernal_size)/stride]+1)]\n",
    "        ),#output shape (16,28,28)\n",
    "            nn.ReLU(),#activation\n",
    "            nn.MaxPool2d(kernel_size=2),#池化层，特征降维，每两个取最大一个，2变1故（28x28）变成（14x14）\n",
    "        )#output shape (16,14,14)\n",
    "        #第2个卷积神经网络\n",
    "        self.conv2=nn.Sequential(\n",
    "          nn.Conv2d(#input shape (16,14,14)\n",
    "            in_channels=16,\n",
    "            out_channels=32,\n",
    "            kernel_size=5,\n",
    "            stride=1,\n",
    "            padding=2\n",
    "          ),#output shape (32,14,14)\n",
    "             nn.ReLU(),#activation\n",
    "            nn.MaxPool2d(kernel_size=2),#池化层，特征降维，每两个取最大一个，2变1故（14x14）变成（7x7）\n",
    "        )\n",
    "        self.out=nn.Linear(32*7*7,10)\n",
    "    \n",
    "    def forward(self,x):\n",
    "        x=self.conv1(x)\n",
    "        x=self.conv2(x)\n",
    "        x=x.view(x.size(0),-1)#将（N,32,7,7）展平为（batch_size,32*7*7）\n",
    "        return self.out(x)"
   ]
  },
  {
   "cell_type": "code",
   "execution_count": 22,
   "metadata": {},
   "outputs": [
    {
     "name": "stdout",
     "output_type": "stream",
     "text": [
      "Epoch [1/5], Step [100/600], Loss: 0.1907\n",
      "Epoch [1/5], Step [200/600], Loss: 0.1014\n",
      "Epoch [1/5], Step [300/600], Loss: 0.0571\n",
      "Epoch [1/5], Step [400/600], Loss: 0.1278\n",
      "Epoch [1/5], Step [500/600], Loss: 0.0945\n",
      "Epoch [1/5], Step [600/600], Loss: 0.0450\n",
      "Epoch [2/5], Step [100/600], Loss: 0.0167\n",
      "Epoch [2/5], Step [200/600], Loss: 0.0282\n",
      "Epoch [2/5], Step [300/600], Loss: 0.1364\n",
      "Epoch [2/5], Step [400/600], Loss: 0.0577\n",
      "Epoch [2/5], Step [500/600], Loss: 0.0277\n",
      "Epoch [2/5], Step [600/600], Loss: 0.0518\n",
      "Epoch [3/5], Step [100/600], Loss: 0.0860\n",
      "Epoch [3/5], Step [200/600], Loss: 0.0201\n",
      "Epoch [3/5], Step [300/600], Loss: 0.1053\n",
      "Epoch [3/5], Step [400/600], Loss: 0.0424\n",
      "Epoch [3/5], Step [500/600], Loss: 0.0184\n",
      "Epoch [3/5], Step [600/600], Loss: 0.1346\n",
      "Epoch [4/5], Step [100/600], Loss: 0.0970\n",
      "Epoch [4/5], Step [200/600], Loss: 0.0225\n",
      "Epoch [4/5], Step [300/600], Loss: 0.0567\n",
      "Epoch [4/5], Step [400/600], Loss: 0.0096\n",
      "Epoch [4/5], Step [500/600], Loss: 0.0739\n",
      "Epoch [4/5], Step [600/600], Loss: 0.0452\n",
      "Epoch [5/5], Step [100/600], Loss: 0.0264\n",
      "Epoch [5/5], Step [200/600], Loss: 0.1114\n",
      "Epoch [5/5], Step [300/600], Loss: 0.0131\n",
      "Epoch [5/5], Step [400/600], Loss: 0.0454\n",
      "Epoch [5/5], Step [500/600], Loss: 0.0345\n",
      "Epoch [5/5], Step [600/600], Loss: 0.0134\n"
     ]
    }
   ],
   "source": [
    "#实例化神经网络\n",
    "cnn_net=Net()\n",
    "#构建优化模型\n",
    "optim=torch.optim.Adam(cnn_net.parameters(),lr=lr)\n",
    "\n",
    "#交叉熵损失函数\n",
    "loss_fn=nn.CrossEntropyLoss()\n",
    "\n",
    "# Train the model\n",
    "total_step = len(train_loader)\n",
    "#共训练num_epochs，每次都跑完6000个样本\n",
    "for i_epoch in range(num_epochs):\n",
    "    #将全部样本分割为每次抽100，共循环6000/100次\n",
    "    for i,(images,labels) in enumerate(train_loader):\n",
    "        predict_output=cnn_net(images)\n",
    "        loss=loss_fn(predict_output,labels)\n",
    "        optim.zero_grad()\n",
    "        loss.backward()\n",
    "        optim.step()\n",
    "        \n",
    "        #每过100次记录一次损失\n",
    "        if (i+1) % 100 == 0:\n",
    "            print ('Epoch [{}/{}], Step [{}/{}], Loss: {:.4f}' \n",
    "                   .format(i_epoch+1, num_epochs, i+1, total_step, loss.item()))"
   ]
  },
  {
   "cell_type": "code",
   "execution_count": 24,
   "metadata": {},
   "outputs": [
    {
     "name": "stdout",
     "output_type": "stream",
     "text": [
      "Accuracy of the model on the 10000 test images: 98.94999694824219 %\n"
     ]
    }
   ],
   "source": [
    "#test module\n",
    "# In test phase, we don't need to compute gradients (for memory efficiency)\n",
    "with torch.no_grad():\n",
    "    correct=0\n",
    "    total=0\n",
    "    for images,labels in test_loader:\n",
    "        test_output=cnn_net(images)\n",
    "        #取每行最大值所对应索引【1】是最大值的索引值\n",
    "        pred_labels=torch.max(test_output,1)[1].data\n",
    "        total+=labels.size(0)#第一维的值\n",
    "        correct+=(pred_labels==labels).sum()\n",
    "        \n",
    "    print('Accuracy of the model on the 10000 test images: {} %'.format(100 * correct / total))\n",
    "    \n",
    "# Save the model checkpoint\n",
    "torch.save(cnn_net.state_dict(), 'model.ckpt')"
   ]
  },
  {
   "cell_type": "code",
   "execution_count": 35,
   "metadata": {},
   "outputs": [
    {
     "name": "stdout",
     "output_type": "stream",
     "text": [
      "Predict Label is: [6, 2, 0, 9]\n",
      "Real Label is: [6, 2, 0, 9]\n"
     ]
    },
    {
     "data": {
      "text/plain": [
       "<matplotlib.image.AxesImage at 0x283b31f7370>"
      ]
     },
     "execution_count": 35,
     "metadata": {},
     "output_type": "execute_result"
    },
    {
     "data": {
      "image/png": "[encoded data removed]",
      "text/plain": [
       "<Figure size 432x288 with 1 Axes>"
      ]
     },
     "metadata": {
      "needs_background": "light"
     },
     "output_type": "display_data"
    }
   ],
   "source": [
    "#加载训练好的模型 参考 https://www.jianshu.com/p/1cd6333128a1\n",
    "cnn=Net()\n",
    "cnn.load_state_dict(torch.load('model.ckpt'))\n",
    "\n",
    "data_loader_test = DataLoader(dataset=test_dataset,\n",
    "                                          batch_size = 4,\n",
    "                                          shuffle = True)\n",
    "\n",
    "X_test, y_test = next(iter(data_loader_test))\n",
    "\n",
    "pred = cnn(X_test)\n",
    "_,pred = torch.max(pred, 1)\n",
    "\n",
    "print(\"Predict Label is:\", [ i for i in pred.data.numpy()])\n",
    "print(\"Real Label is:\",[i for i in y_test.data.numpy()])\n",
    "\n",
    "\n",
    "img = torchvision.utils.make_grid(X_test)\n",
    "img = img.numpy().transpose(1,2,0)\n",
    "\n",
    "std = [0.5,0.5,0.5]\n",
    "mean = [0.5,0.5,0.5]\n",
    "img = img*std+mean\n",
    "plt.imshow(img)"
   ]
  }
 ],
 "metadata": {
  "kernelspec": {
   "display_name": "Python 3",
   "language": "python",
   "name": "python3"
  },
  "language_info": {
   "codemirror_mode": {
    "name": "ipython",
    "version": 3
   },
   "file_extension": ".py",
   "mimetype": "text/x-python",
   "name": "python",
   "nbconvert_exporter": "python",
   "pygments_lexer": "ipython3",
   "version": "3.8.3"
  }
 },
 "nbformat": 4,
 "nbformat_minor": 4
}
